{
  "nbformat": 4,
  "nbformat_minor": 0,
  "metadata": {
    "colab": {
      "provenance": [],
      "authorship_tag": "ABX9TyO1O0HhFlfOxgO6O9tWzrGO",
      "include_colab_link": true
    },
    "kernelspec": {
      "name": "python3",
      "display_name": "Python 3"
    },
    "language_info": {
      "name": "python"
    }
  },
  "cells": [
    {
      "cell_type": "markdown",
      "metadata": {
        "id": "view-in-github",
        "colab_type": "text"
      },
      "source": [
        "<a href=\"https://colab.research.google.com/github/gogi102/didwnstjr/blob/main/Untitled12.ipynb\" target=\"_parent\"><img src=\"https://colab.research.google.com/assets/colab-badge.svg\" alt=\"Open In Colab\"/></a>"
      ]
    },
    {
      "cell_type": "code",
      "execution_count": 13,
      "metadata": {
        "colab": {
          "base_uri": "https://localhost:8080/"
        },
        "id": "vEBI93vqJzhg",
        "outputId": "7adbe8fc-9164-4c08-8eb9-4228ab4f11b2"
      },
      "outputs": [
        {
          "output_type": "stream",
          "name": "stdout",
          "text": [
            "파이썬 재미있다!!\n",
            " 숫자 입력 18\n",
            "집 가고싶다 18\n",
            "<built-in method values of dict object at 0x7ff9de0e7ac0>\n"
          ]
        }
      ],
      "source": [
        "print(\"파이썬 재미있다!!\")\n",
        "a = int(input(\" 숫자 입력 \" ))\n",
        "if a == 18 or 28 :\n",
        "     print(\"집 가고싶다\",a)\n",
        "\n",
        "else: \n",
        "     print(\"18 또는 28 만 입력\")"
      ]
    }
  ]
}