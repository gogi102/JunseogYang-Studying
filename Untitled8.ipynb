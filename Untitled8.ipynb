{
  "nbformat": 4,
  "nbformat_minor": 0,
  "metadata": {
    "colab": {
      "provenance": [],
      "authorship_tag": "ABX9TyPr8SuA6iS+QTkNhASrkask",
      "include_colab_link": true
    },
    "kernelspec": {
      "name": "python3",
      "display_name": "Python 3"
    },
    "language_info": {
      "name": "python"
    }
  },
  "cells": [
    {
      "cell_type": "markdown",
      "metadata": {
        "id": "view-in-github",
        "colab_type": "text"
      },
      "source": [
        "<a href=\"https://colab.research.google.com/github/gogi102/didwnstjr/blob/main/Untitled8.ipynb\" target=\"_parent\"><img src=\"https://colab.research.google.com/assets/colab-badge.svg\" alt=\"Open In Colab\"/></a>"
      ]
    },
    {
      "cell_type": "code",
      "source": [
        "a = int(input(\"a = 가위 1 바위 2 보 3 = \"))\n",
        "b = int(input(\"b = 가위 1 바위 2 보 3 = \"))\n",
        "if a == 2 :\n",
        "  b==1\n",
        "  print(\"a가 이김\")\n",
        "elif b==2:\n",
        "  a==1\n",
        "  print(\"b가 이김\")\n",
        "elif b==a : \n",
        "  print(\"비겼음\")\n",
        "elif b==3 :\n",
        "  a==1  \n",
        "  print(\"a가 이김\")\n",
        "elif a==3 : \n",
        "  b==1\n",
        "  print(\"b가 이김\")\n",
        "elif b==2 and a == 3  :\n",
        "    \n",
        "  print(\"a가 이김\")\n",
        "elif b==3 and a == 2 :\n",
        "   \n",
        "  print(\"b가 이김\")\n",
        "\n",
        "\n",
        "\n"
      ],
      "metadata": {
        "colab": {
          "base_uri": "https://localhost:8080/"
        },
        "id": "WeH0b6yFuyaZ",
        "outputId": "19adca68-3d91-4ada-8e6b-61a41fa98d2e"
      },
      "execution_count": 72,
      "outputs": [
        {
          "output_type": "stream",
          "name": "stdout",
          "text": [
            "a = 가위 1 바위 2 보 3 = 3\n",
            "b = 가위 1 바위 2 보 3 = 2\n",
            "b가 이김\n"
          ]
        }
      ]
    }
  ]
}